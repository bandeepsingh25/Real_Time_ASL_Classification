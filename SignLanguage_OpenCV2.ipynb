{
 "cells": [
  {
   "cell_type": "code",
   "execution_count": 10,
   "metadata": {},
   "outputs": [],
   "source": [
    "import cv2\n",
    "from keras.models import load_model\n",
    "import numpy as np\n",
    "import string\n",
    "labels = list(string.ascii_uppercase) + ['del','nothing','space']\n",
    "\n",
    "classes={}\n",
    "i=0\n",
    "for label in labels:\n",
    "    classes[i] = label\n",
    "    i+=1\n"
   ]
  },
  {
   "cell_type": "code",
   "execution_count": 11,
   "metadata": {},
   "outputs": [
    {
     "name": "stdout",
     "output_type": "stream",
     "text": [
      "_________________________________________________________________\n",
      "Layer (type)                 Output Shape              Param #   \n",
      "=================================================================\n",
      "conv2d_1 (Conv2D)            (None, 62, 62, 64)        640       \n",
      "_________________________________________________________________\n",
      "max_pooling2d_1 (MaxPooling2 (None, 31, 31, 64)        0         \n",
      "_________________________________________________________________\n",
      "conv2d_2 (Conv2D)            (None, 29, 29, 64)        36928     \n",
      "_________________________________________________________________\n",
      "max_pooling2d_2 (MaxPooling2 (None, 14, 14, 64)        0         \n",
      "_________________________________________________________________\n",
      "dropout_1 (Dropout)          (None, 14, 14, 64)        0         \n",
      "_________________________________________________________________\n",
      "conv2d_3 (Conv2D)            (None, 12, 12, 128)       73856     \n",
      "_________________________________________________________________\n",
      "max_pooling2d_3 (MaxPooling2 (None, 6, 6, 128)         0         \n",
      "_________________________________________________________________\n",
      "conv2d_4 (Conv2D)            (None, 4, 4, 128)         147584    \n",
      "_________________________________________________________________\n",
      "max_pooling2d_4 (MaxPooling2 (None, 2, 2, 128)         0         \n",
      "_________________________________________________________________\n",
      "flatten_1 (Flatten)          (None, 512)               0         \n",
      "_________________________________________________________________\n",
      "dropout_2 (Dropout)          (None, 512)               0         \n",
      "_________________________________________________________________\n",
      "dense_1 (Dense)              (None, 512)               262656    \n",
      "_________________________________________________________________\n",
      "dense_2 (Dense)              (None, 29)                14877     \n",
      "=================================================================\n",
      "Total params: 536,541\n",
      "Trainable params: 536,541\n",
      "Non-trainable params: 0\n",
      "_________________________________________________________________\n"
     ]
    }
   ],
   "source": [
    "my_model = load_model('model_asl_grayscale.h5')\n",
    "my_model.summary()"
   ]
  },
  {
   "cell_type": "code",
   "execution_count": 9,
   "metadata": {},
   "outputs": [],
   "source": [
    "vid = cv2.VideoCapture(0)\n",
    "\n",
    "\n",
    "\n",
    "while True:\n",
    "    _,img = vid.read()\n",
    "    \n",
    "    \n",
    "    #new_im = cv2.cvtColor(img,cv2.COLOR_BGR2GRAY)\n",
    "    \n",
    "    \n",
    "    cv2.rectangle(img,(500,0),(1000,400),(0,255,0))\n",
    "    \n",
    "    \n",
    "    #ROI  of IMAGE which is feeded into the network for prediction.\n",
    "    crop = img[0:400,600:1000]\n",
    "    \n",
    "    # Converting the image to grayscale as the network is trained on grayscale images for easier training\n",
    "    crop = cv2.cvtColor(crop,cv2.COLOR_BGR2GRAY)\n",
    "    \n",
    "    \n",
    "    #Standardizing the images for prediction\n",
    "    crop = (crop- np.mean(crop))/np.std(crop)\n",
    "    \n",
    "    # Reducing image size to (64,64) similar to the input of the network\n",
    "    crop = cv2.resize(crop,(64,64))\n",
    "    \n",
    "    \n",
    "    # To show how the processed image looks like.\n",
    "    cv2.imshow('Crop',crop)\n",
    "    \n",
    "    \n",
    "    # Reshaping for model prediction\n",
    "    crop = crop.reshape((1,64,64,1))\n",
    "    \n",
    "    \n",
    "    prediction = my_model.predict_classes(crop)[0]\n",
    "    \n",
    "    \n",
    "    cv2.putText(img,classes[prediction],(500,400),cv2.FONT_HERSHEY_SIMPLEX,3,(0,0,255),7)\n",
    "    \n",
    "    \n",
    "    cv2.imshow('Image',img)\n",
    "    \n",
    "    if cv2.waitKey(1) & 0xFF == ord('q'):\n",
    "        break\n",
    "\n",
    "\n",
    "vid.release()\n",
    "cv2.destroyAllWindows()"
   ]
  }
 ],
 "metadata": {
  "kernelspec": {
   "display_name": "Python 3",
   "language": "python",
   "name": "python3"
  },
  "language_info": {
   "codemirror_mode": {
    "name": "ipython",
    "version": 3
   },
   "file_extension": ".py",
   "mimetype": "text/x-python",
   "name": "python",
   "nbconvert_exporter": "python",
   "pygments_lexer": "ipython3",
   "version": "3.6.4"
  }
 },
 "nbformat": 4,
 "nbformat_minor": 2
}
